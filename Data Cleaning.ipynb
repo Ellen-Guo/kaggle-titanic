{
 "cells": [
  {
   "cell_type": "markdown",
   "id": "ea26e617",
   "metadata": {},
   "source": [
    "### Data Cleaning | Jupyter Notebook\n",
    "---\n",
    "In order for textual data to be utilized it must be cleaned and/or converted into a numerical format. Missing data within the dataset also have to be dealt with, in an appropriate manner. To ensure that these data points do not skew or effect the model's performance in a negative way."
   ]
  },
  {
   "cell_type": "code",
   "execution_count": 1,
   "id": "f5dc3f32",
   "metadata": {},
   "outputs": [],
   "source": [
    "import re\n",
    "import pandas as pd\n",
    "import numpy as np\n",
    "\n",
    "from sklearn.model_selection import train_test_split\n",
    "from sklearn.preprocessing import LabelBinarizer, OrdinalEncoder\n",
    "from sklearn.impute import SimpleImputer"
   ]
  },
  {
   "cell_type": "code",
   "execution_count": 2,
   "id": "81e21c7b",
   "metadata": {},
   "outputs": [],
   "source": [
    "# load training data\n",
    "train_data = pd.read_csv('Data/train.csv')"
   ]
  },
  {
   "cell_type": "markdown",
   "id": "99040d1c",
   "metadata": {},
   "source": [
    "#### Data Processing\n",
    "1. Convert loaded data into a DataFrame\n",
    "2. Find and replace all missing values with NaN\n",
    "3. Encode textual data with numerical representations\n",
    "    a. Binarize textual data (Sex)\n",
    "    b. Filling empty age values with the mean (Age)\n",
    "    c. Use Regex to remove non-numerical values (Ticket)\n",
    "    d. Encoding of char data (Embarked)\n",
    "4. Remove columns that were not encoded (PassengerId, Name, Cabin)"
   ]
  },
  {
   "cell_type": "code",
   "execution_count": 3,
   "id": "df449cf4",
   "metadata": {},
   "outputs": [],
   "source": [
    "train_data = pd.DataFrame(train_data)\n",
    "train_data = train_data.replace(r'', np.nan, regex=True)"
   ]
  },
  {
   "cell_type": "markdown",
   "id": "bffb3867",
   "metadata": {},
   "source": [
    "LabelBinarizer: "
   ]
  },
  {
   "cell_type": "code",
   "execution_count": 4,
   "id": "e6f437ca",
   "metadata": {},
   "outputs": [],
   "source": [
    "lb = LabelBinarizer()\n",
    "train_data['Sex'] = lb.fit_transform(train_data['Sex'])"
   ]
  },
  {
   "cell_type": "markdown",
   "id": "8885dc45",
   "metadata": {},
   "source": [
    "SimpleImputer:"
   ]
  },
  {
   "cell_type": "code",
   "execution_count": 5,
   "id": "f0a8854b",
   "metadata": {},
   "outputs": [],
   "source": [
    "imp = SimpleImputer(missing_values=np.nan, strategy='mean')\n",
    "train_data['Age'] = np.round(imp.fit_transform(train_data[['Age']]))"
   ]
  },
  {
   "cell_type": "code",
   "execution_count": 6,
   "id": "cdbe673a",
   "metadata": {},
   "outputs": [],
   "source": [
    "train_data['Ticket'] = [re.sub(\"[^0-9]\", \"\", i) for i in train_data['Ticket']]\n",
    "ticket = []\n",
    "for i in train_data['Ticket']:\n",
    "    if i == '':\n",
    "        ticket.append(float(0))\n",
    "    else:\n",
    "        ticket.append(float(i))"
   ]
  },
  {
   "cell_type": "code",
   "execution_count": 7,
   "id": "9637369f",
   "metadata": {},
   "outputs": [],
   "source": [
    "train_data['Ticket'] = ticket"
   ]
  },
  {
   "cell_type": "markdown",
   "id": "0d2ad523",
   "metadata": {},
   "source": [
    "OrdinalEncoder: "
   ]
  },
  {
   "cell_type": "code",
   "execution_count": 8,
   "id": "42501871",
   "metadata": {},
   "outputs": [],
   "source": [
    "enc = OrdinalEncoder()\n",
    "train_data['Embarked'] = enc.fit_transform(train_data[['Embarked']])\n",
    "train_data['Embarked'] = enc.set_params(encoded_missing_value=-1).fit_transform(train_data[['Embarked']])"
   ]
  },
  {
   "cell_type": "code",
   "execution_count": 9,
   "id": "1639d006",
   "metadata": {},
   "outputs": [],
   "source": [
    "cleaned_data = train_data.drop(['PassengerId', 'Name', 'Cabin'], axis=1)"
   ]
  },
  {
   "cell_type": "markdown",
   "id": "fe7e891a",
   "metadata": {},
   "source": [
    "#### Data Shuffling & Split"
   ]
  },
  {
   "cell_type": "code",
   "execution_count": 10,
   "id": "3c25bdfc",
   "metadata": {},
   "outputs": [],
   "source": [
    "cleaned_train_data, val_data = train_test_split(cleaned_data, test_size=0.2, random_state=42)\n",
    "train_targets = cleaned_train_data['Survived'].values\n",
    "train_features = cleaned_train_data.drop(['Survived'], axis=1).values\n",
    "val_targets = val_data['Survived'].values\n",
    "val_features = val_data.drop(['Survived'], axis=1).values"
   ]
  },
  {
   "cell_type": "markdown",
   "id": "ea8bc9b7",
   "metadata": {},
   "source": [
    "#### Train Logistic Regression Model"
   ]
  },
  {
   "cell_type": "code",
   "execution_count": 11,
   "id": "1f2f81c6",
   "metadata": {},
   "outputs": [],
   "source": [
    "from sklearn.linear_model import LogisticRegression"
   ]
  },
  {
   "cell_type": "code",
   "execution_count": 12,
   "id": "f6332a85",
   "metadata": {
    "scrolled": true
   },
   "outputs": [],
   "source": [
    "titanic_logistic_reg = LogisticRegression(random_state=42).fit(train_features, train_targets)"
   ]
  },
  {
   "cell_type": "code",
   "execution_count": 13,
   "id": "a3dfeaa5",
   "metadata": {},
   "outputs": [
    {
     "data": {
      "text/plain": [
       "array([[3.00000e+00, 1.00000e+00, 3.00000e+01, 1.00000e+00, 1.00000e+00,\n",
       "        2.66100e+03, 1.52458e+01, 0.00000e+00]])"
      ]
     },
     "execution_count": 13,
     "metadata": {},
     "output_type": "execute_result"
    }
   ],
   "source": [
    "val_features[0].reshape(1, -1)"
   ]
  },
  {
   "cell_type": "code",
   "execution_count": 16,
   "id": "9d10ba3c",
   "metadata": {
    "scrolled": true
   },
   "outputs": [
    {
     "data": {
      "text/plain": [
       "array([0, 0, 0, 0, 0, 0, 0, 0, 0, 0, 0, 0, 0, 0, 0, 0, 0, 0, 0, 0, 0, 0,\n",
       "       0, 0, 0, 0, 0, 0, 0, 0, 0, 0, 0, 0, 0, 0, 0, 0, 0, 0, 0, 0, 0, 0,\n",
       "       0, 0, 0, 0, 0, 0, 0, 0, 0, 0, 0, 0, 0, 0, 0, 0, 0, 0, 0, 0, 0, 0,\n",
       "       0, 0, 0, 0, 0, 0, 0, 0, 0, 0, 0, 0, 0, 0, 0, 0, 0, 0, 0, 0, 0, 0,\n",
       "       0, 0, 0, 0, 0, 0, 0, 0, 0, 0, 0, 0, 0, 0, 0, 0, 0, 0, 0, 0, 0, 0,\n",
       "       0, 0, 0, 0, 0, 0, 0, 0, 0, 0, 0, 0, 0, 0, 0, 0, 0, 0, 0, 0, 0, 0,\n",
       "       0, 0, 0, 0, 0, 0, 0, 0, 0, 0, 0, 0, 0, 0, 0, 0, 0, 0, 0, 0, 0, 0,\n",
       "       0, 0, 0, 0, 0, 0, 0, 0, 0, 0, 0, 0, 0, 0, 0, 0, 0, 0, 0, 0, 0, 0,\n",
       "       0, 0, 0])"
      ]
     },
     "execution_count": 16,
     "metadata": {},
     "output_type": "execute_result"
    }
   ],
   "source": [
    "titanic_logistic_reg.predict(val_features[0:])"
   ]
  },
  {
   "cell_type": "code",
   "execution_count": 15,
   "id": "e5c0b4cc",
   "metadata": {},
   "outputs": [
    {
     "data": {
      "text/plain": [
       "array([[0.50001589, 0.49998411],\n",
       "       [0.50011178, 0.49988822],\n",
       "       [0.63452503, 0.36547497],\n",
       "       [0.50148495, 0.49851505],\n",
       "       [0.50001583, 0.49998417],\n",
       "       [0.50011867, 0.49988133],\n",
       "       [0.50005513, 0.49994487],\n",
       "       [0.50206427, 0.49793573],\n",
       "       [0.50219244, 0.49780756],\n",
       "       [0.50007016, 0.49992984],\n",
       "       [0.50067943, 0.49932057],\n",
       "       [0.50217071, 0.49782929],\n",
       "       [0.50002467, 0.49997533],\n",
       "       [0.50001608, 0.49998392],\n",
       "       [0.50136859, 0.49863141],\n",
       "       [0.50010503, 0.49989497],\n",
       "       [0.50007017, 0.49992983],\n",
       "       [0.50197565, 0.49802435],\n",
       "       [0.50126291, 0.49873709],\n",
       "       [0.5006595 , 0.4993405 ],\n",
       "       [0.50208499, 0.49791501],\n",
       "       [0.50067937, 0.49932063],\n",
       "       [0.50208984, 0.49791016],\n",
       "       [0.50003918, 0.49996082],\n",
       "       [0.50217612, 0.49782388],\n",
       "       [0.50207218, 0.49792782],\n",
       "       [0.50010508, 0.49989492],\n",
       "       [0.50145834, 0.49854166],\n",
       "       [0.50207218, 0.49792782],\n",
       "       [0.50209199, 0.49790801],\n",
       "       [0.50208486, 0.49791514],\n",
       "       [0.50207214, 0.49792786],\n",
       "       [0.50010508, 0.49989492],\n",
       "       [0.50003946, 0.49996054],\n",
       "       [0.50031965, 0.49968035],\n",
       "       [0.50001587, 0.49998413],\n",
       "       [0.50067934, 0.49932066],\n",
       "       [0.50221118, 0.49778882],\n",
       "       [0.5006794 , 0.4993206 ],\n",
       "       [0.5020849 , 0.4979151 ],\n",
       "       [0.50008883, 0.49991117],\n",
       "       [0.50002066, 0.49997934],\n",
       "       [0.50234086, 0.49765914],\n",
       "       [0.50007439, 0.49992561],\n",
       "       [0.50001607, 0.49998393],\n",
       "       [0.50003945, 0.49996055],\n",
       "       [0.50002068, 0.49997932],\n",
       "       [0.50004339, 0.49995661],\n",
       "       [0.51850705, 0.48149295],\n",
       "       [0.50021059, 0.49978941],\n",
       "       [0.50001592, 0.49998408],\n",
       "       [0.50007611, 0.49992389],\n",
       "       [0.50207218, 0.49792782],\n",
       "       [0.50067917, 0.49932083],\n",
       "       [0.5020086 , 0.4979914 ],\n",
       "       [0.50065919, 0.49934081],\n",
       "       [0.50019768, 0.49980232],\n",
       "       [0.50010482, 0.49989518],\n",
       "       [0.50008077, 0.49991923],\n",
       "       [0.50197588, 0.49802412],\n",
       "       [0.50186862, 0.49813138],\n",
       "       [0.50149639, 0.49850361],\n",
       "       [0.50001196, 0.49998804],\n",
       "       [0.50010339, 0.49989661],\n",
       "       [0.50220122, 0.49779878],\n",
       "       [0.50000002, 0.49999998],\n",
       "       [0.50008883, 0.49991117],\n",
       "       [0.5018811 , 0.4981189 ],\n",
       "       [0.50001606, 0.49998394],\n",
       "       [0.50022058, 0.49977942],\n",
       "       [0.50149644, 0.49850356],\n",
       "       [0.50010512, 0.49989488],\n",
       "       [0.5006649 , 0.4993351 ],\n",
       "       [0.50010601, 0.49989399],\n",
       "       [0.50207445, 0.49792555],\n",
       "       [0.50208903, 0.49791097],\n",
       "       [0.50217822, 0.49782178],\n",
       "       [0.500081  , 0.499919  ],\n",
       "       [0.50141894, 0.49858106],\n",
       "       [0.50220974, 0.49779026],\n",
       "       [0.51850695, 0.48149305],\n",
       "       [0.50017549, 0.49982451],\n",
       "       [0.50010129, 0.49989871],\n",
       "       [0.50022009, 0.49977991],\n",
       "       [0.50010606, 0.49989394],\n",
       "       [0.50010513, 0.49989487],\n",
       "       [0.50021059, 0.49978941],\n",
       "       [0.50010439, 0.49989561],\n",
       "       [0.50011924, 0.49988076],\n",
       "       [0.50216309, 0.49783691],\n",
       "       [0.50216891, 0.49783109],\n",
       "       [0.50207214, 0.49792786],\n",
       "       [0.50022068, 0.49977932],\n",
       "       [0.50219497, 0.49780503],\n",
       "       [0.50208484, 0.49791516],\n",
       "       [0.50207442, 0.49792558],\n",
       "       [0.50011938, 0.49988062],\n",
       "       [0.50004536, 0.49995464],\n",
       "       [0.50017046, 0.49982954],\n",
       "       [0.5020849 , 0.4979151 ],\n",
       "       [0.50000414, 0.49999586],\n",
       "       [0.63452495, 0.36547505],\n",
       "       [0.50007145, 0.49992855],\n",
       "       [0.51850702, 0.48149298],\n",
       "       [0.50217612, 0.49782388],\n",
       "       [0.50207211, 0.49792789],\n",
       "       [0.50017761, 0.49982239],\n",
       "       [0.5006646 , 0.4993354 ],\n",
       "       [0.50206433, 0.49793567],\n",
       "       [0.50067032, 0.49932968],\n",
       "       [0.50011938, 0.49988062],\n",
       "       [0.50311148, 0.49688852],\n",
       "       [0.5001042 , 0.4998958 ],\n",
       "       [0.50010432, 0.49989568],\n",
       "       [0.50010438, 0.49989562],\n",
       "       [0.50004498, 0.49995502],\n",
       "       [0.500106  , 0.499894  ],\n",
       "       [0.50001291, 0.49998709],\n",
       "       [0.50148502, 0.49851498],\n",
       "       [0.50003945, 0.49996055],\n",
       "       [0.50017376, 0.49982624],\n",
       "       [0.50007053, 0.49992947],\n",
       "       [0.50008061, 0.49991939],\n",
       "       [0.50148502, 0.49851498],\n",
       "       [0.50223814, 0.49776186],\n",
       "       [0.50066524, 0.49933476],\n",
       "       [0.50010427, 0.49989573],\n",
       "       [0.50010503, 0.49989497],\n",
       "       [0.50001605, 0.49998395],\n",
       "       [0.50265899, 0.49734101],\n",
       "       [0.50197601, 0.49802399],\n",
       "       [0.50001589, 0.49998411],\n",
       "       [0.50143198, 0.49856802],\n",
       "       [0.50217623, 0.49782377],\n",
       "       [0.50010439, 0.49989561],\n",
       "       [0.50001587, 0.49998413],\n",
       "       [0.50010401, 0.49989599],\n",
       "       [0.50207205, 0.49792795],\n",
       "       [0.50003312, 0.49996688],\n",
       "       [0.50208501, 0.49791499],\n",
       "       [0.5000506 , 0.4999494 ],\n",
       "       [0.50145823, 0.49854177],\n",
       "       [0.50148503, 0.49851497],\n",
       "       [0.50017336, 0.49982664],\n",
       "       [0.5022845 , 0.4977155 ],\n",
       "       [0.50016848, 0.49983152],\n",
       "       [0.50149641, 0.49850359],\n",
       "       [0.50014674, 0.49985326],\n",
       "       [0.50010489, 0.49989511],\n",
       "       [0.50031962, 0.49968038],\n",
       "       [0.50002036, 0.49997964],\n",
       "       [0.50208484, 0.49791516],\n",
       "       [0.50208978, 0.49791022],\n",
       "       [0.50221559, 0.49778441],\n",
       "       [0.5022373 , 0.4977627 ],\n",
       "       [0.51850701, 0.48149299],\n",
       "       [0.50000956, 0.49999044],\n",
       "       [0.50197573, 0.49802427],\n",
       "       [0.50135449, 0.49864551],\n",
       "       [0.50217821, 0.49782179],\n",
       "       [0.50001608, 0.49998392],\n",
       "       [0.50066524, 0.49933476],\n",
       "       [0.50148493, 0.49851507],\n",
       "       [0.5001051 , 0.4998949 ],\n",
       "       [0.5019754 , 0.4980246 ],\n",
       "       [0.50067767, 0.49932233],\n",
       "       [0.50145839, 0.49854161],\n",
       "       [0.50010426, 0.49989574],\n",
       "       [0.5020851 , 0.4979149 ],\n",
       "       [0.51850704, 0.48149296],\n",
       "       [0.50010603, 0.49989397],\n",
       "       [0.50149644, 0.49850356],\n",
       "       [0.50010432, 0.49989568],\n",
       "       [0.50001599, 0.49998401],\n",
       "       [0.63452495, 0.36547505],\n",
       "       [0.50001596, 0.49998404],\n",
       "       [0.50207211, 0.49792789],\n",
       "       [0.50008887, 0.49991113],\n",
       "       [0.50005701, 0.49994299]])"
      ]
     },
     "execution_count": 15,
     "metadata": {},
     "output_type": "execute_result"
    }
   ],
   "source": [
    "titanic_logistic_reg.predict_proba(val_features[0:])"
   ]
  },
  {
   "cell_type": "code",
   "execution_count": 17,
   "id": "e5647fc2",
   "metadata": {},
   "outputs": [
    {
     "data": {
      "text/plain": [
       "0.5865921787709497"
      ]
     },
     "execution_count": 17,
     "metadata": {},
     "output_type": "execute_result"
    }
   ],
   "source": [
    "titanic_logistic_reg.score(val_features, val_targets)"
   ]
  },
  {
   "cell_type": "code",
   "execution_count": null,
   "id": "66b58b01",
   "metadata": {},
   "outputs": [],
   "source": []
  }
 ],
 "metadata": {
  "kernelspec": {
   "display_name": "Python 3 (ipykernel)",
   "language": "python",
   "name": "python3"
  },
  "language_info": {
   "codemirror_mode": {
    "name": "ipython",
    "version": 3
   },
   "file_extension": ".py",
   "mimetype": "text/x-python",
   "name": "python",
   "nbconvert_exporter": "python",
   "pygments_lexer": "ipython3",
   "version": "3.11.4"
  }
 },
 "nbformat": 4,
 "nbformat_minor": 5
}
